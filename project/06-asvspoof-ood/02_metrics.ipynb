{
 "cells": [
  {
   "cell_type": "markdown",
   "id": "split-membership",
   "metadata": {},
   "source": [
    "# Evaluation script for asvspoof-ood\n",
    "\n",
    "To run this jupyter notebook:\n",
    "\n",
    "1. Please use the conda environment in [../../tutorials/env-cpu.yml](../../tutorials/env-cpu.yml). It will install matplotlib, pandas, and other utils;\n",
    "\n",
    "2. Make sure this project-NN-Pytorch-scripts is in your PYTHONPATH\n",
    "\n",
    "3. Please run 00_demo.sh to get the score files beforing running this notebook\n",
    "\n",
    "Note: \n",
    "\n",
    "1. tools to compute cllr are not included. Please check https://gitlab.eurecom.fr/nautsch/pybosaris\n"
   ]
  },
  {
   "cell_type": "code",
   "execution_count": 5,
   "id": "medical-there",
   "metadata": {},
   "outputs": [],
   "source": [
    "import os\n",
    "import sys\n",
    "import numpy as np\n",
    "\n",
    "import pandas as pd\n",
    "import sklearn.metrics as sklearn_metrics\n",
    "\n",
    "from sandbox import eval_asvspoof\n",
    "from core_scripts.data_io import io_tools\n",
    "from tutorials.plot_tools import plot_API\n",
    "from tutorials.plot_tools import plot_lib\n",
    "from tutorials.plot_tools import table_API\n",
    "\n",
    "import IPython\n",
    "from IPython.core.interactiveshell import InteractiveShell\n",
    "InteractiveShell.ast_node_interactivity = \"all\""
   ]
  },
  {
   "cell_type": "code",
   "execution_count": 68,
   "id": "considerable-interim",
   "metadata": {},
   "outputs": [],
   "source": [
    "# Macros\n",
    "g_label_tag = 'label'\n",
    "g_label_bona = 'bonafide'\n",
    "g_attack_tag = 'attack'\n",
    "g_score_tag = 'score'\n",
    "\n",
    "g_bona_tag = '-'\n",
    "g_dev_groups = ['A01', 'A02', 'A03', 'A04', 'A05', 'A06']\n",
    "g_eval_groups = ['A16', 'A19', 'A07', 'A08', 'A09', 'A17', 'A10', 'A11', 'A12', 'A13', 'A14', 'A15', 'A18']\n",
    "\n",
    "g_inout_col = 'inoutlabel'\n",
    "\n",
    "# 1: in-distribution (known)\n",
    "# 0: out-distribution (unknown)\n",
    "g_in_out_map = {'-': 1, \n",
    "                'A01': 1, 'A02': 1, 'A03': 1, 'A04': 1, 'A05': 1, 'A06': 1, \n",
    "                'A16': 1, 'A19': 1, \n",
    "                'A07': 0, 'A08': 1, 'A09': 1, 'A17': 0, \n",
    "                'A10': 0, 'A11': 0, 'A12': 0, 'A13': 0, 'A14': 0, 'A15': 0, 'A18': 0}"
   ]
  },
  {
   "cell_type": "code",
   "execution_count": 172,
   "id": "distinct-nitrogen",
   "metadata": {},
   "outputs": [],
   "source": [
    "# Utils\n",
    "\n",
    "# whether trial is in (known) or out (unknown)\n",
    "def get_ood_label(label):\n",
    "    return 'in' if label in g_in_out_map and g_in_out_map[label]==1 else 'out'\n",
    "\n",
    "def get_ood_label_manual(label, inlabel):\n",
    "    return 'out' if label == g_label_bona else inlabel\n",
    "\n",
    "# Parse protocols\n",
    "def parse_protocol(protocol_path):\n",
    "    tmp_pd = pd.read_csv(protocol_path, names = ['voice', 'trial', '-', 'attack', 'label'], sep = ' ', index_col = 'trial')\n",
    "    tmp_pd.insert(0, g_inout_col, tmp_pd['attack'].apply(lambda x: get_ood_label(x)))\n",
    "    \n",
    "    # get_ood_label cannot decide whether bonafide of VCC is in or out\n",
    "    # do it manually\n",
    "    if not tmp_pd.index[0].startswith('LA'):\n",
    "        # this is not ASVspoof protocol, then all bonafide should be out\n",
    "        tmp_pd[g_inout_col] = tmp_pd.apply(lambda x: get_ood_label_manual(x['label'], x[g_inout_col]), axis=1)\n",
    "    return tmp_pd\n",
    "\n",
    "# Parse score.txt\n",
    "def parse_score(score_file):\n",
    "    return pd.read_csv(score_file, names = ['trial', 'tmp', 'score', 'conf'],  sep = ' ', skipinitialspace=True, index_col = 'trial')\n",
    "\n",
    "# Load score file and merge with protocol\n",
    "def load_pd(filepaths, protocol_pd, applyfunc_score=None, applyfunc_conf=None):\n",
    "    \"\"\" \n",
    "    Args\n",
    "    ----\n",
    "      filepaths: list of string, path to score.txt files\n",
    "      protocol_pd: pandas frame, protocol\n",
    "      apply_func_score: function to transform CM score\n",
    "      apply_func_conf: function to transform confidence score\n",
    "      \n",
    "    Return\n",
    "    ------\n",
    "      merged_pd: pandas frame, containing both scores and protocol entries\n",
    "    \"\"\"\n",
    "    #inoutlabel      score       conf    voice attack     label  -  \\\n",
    "    #trial                                                                        \n",
    "    #LA_E_1000147        out -11.330429  37.360504  LA_0044    A10     spoof  -   \n",
    "    #LA_E_1000273        out -13.465729  35.140652  LA_0001    A15     spoof  -\n",
    "    \n",
    "    for filename in filepaths:\n",
    "        if not os.path.isfile(filename):\n",
    "            print(\"Cannot find {:s}\".format(filename))\n",
    "            print(\"Please make sure this file has been generated. Otherwise, run 00_demo.sh\")\n",
    "            sys.exit(1)\n",
    "    \n",
    "    # file that contains score and conf\n",
    "    score_pd = pd.concat([parse_score(x) for x in filepaths])\n",
    "    \n",
    "    if applyfunc_conf:\n",
    "        score_pd['conf'] = score_pd['conf'].apply(applyfunc_conf)\n",
    "    if applyfunc_score:\n",
    "        score_pd['score'] = score_pd['score'].apply(applyfunc_score)\n",
    "        \n",
    "    merged_pd = score_pd.join(protocol_pd) \n",
    "    merged_pd = merged_pd[~merged_pd['score'].isna()]\n",
    "    \n",
    "    return merged_pd"
   ]
  },
  {
   "cell_type": "code",
   "execution_count": 173,
   "id": "promotional-berry",
   "metadata": {},
   "outputs": [],
   "source": [
    "# Utils\n",
    "\n",
    "# compute EERs\n",
    "def compute_eer(tmp_pd):\n",
    "    bona_score = tmp_pd.query(\"label == 'bonafide'\")['score'].to_numpy()\n",
    "    spoof_score = tmp_pd.query(\"label == 'spoof'\")['score'].to_numpy()\n",
    "    eer, threshold = eval_asvspoof.compute_eer(bona_score, spoof_score)\n",
    "    \n",
    "    # cllr is not included in this script\n",
    "    #cllr_value = cm.cllr(bona_score, spoof_score)\n",
    "    #min_cllr_value = cm.min_cllr(bona_score, spoof_score)\n",
    "    return eer, 0\n",
    "\n",
    "\n",
    "# compute metrics\n",
    "def compute_metrics(pd, conf_col = 'conf', inout_col = g_inout_col, tpr_threshold = 0.95):\n",
    "    \"\"\"\n",
    "    Args\n",
    "    ----\n",
    "      pd: pandas frame, return from load_pd\n",
    "      conf_col: string, name of the column for confidence score\n",
    "      inout_col: string, name of the column to indicate in/out\n",
    "      tpr_threshold: threshold for abstention\n",
    "      \n",
    "    Return\n",
    "    ------\n",
    "      fpr95\n",
    "      auroc\n",
    "      apc\n",
    "      eer95\n",
    "    \"\"\"\n",
    "    ood_labels = pd[inout_col].to_numpy()\n",
    "    conf_scores = pd[conf_col].to_numpy()\n",
    "    \n",
    "    #tpr_threshold = 0.95\n",
    "    fpr, tpr, threshold = sklearn_metrics.roc_curve(ood_labels, conf_scores, pos_label='in')\n",
    "    idx = np.argmin(np.abs(tpr - tpr_threshold))\n",
    "    fpr95 = fpr[idx]\n",
    "    thre95 = threshold[idx]\n",
    "    \n",
    "    # EER under tpr=0.95\n",
    "    if len(pd.loc[pd[conf_col] > thre95]):\n",
    "        eer95, _ = compute_eer(pd.loc[pd[conf_col] > thre95])\n",
    "    else:\n",
    "        eer95 = np.inf\n",
    "    \n",
    "    # AUROC and AUPC\n",
    "    ood_labels_tmp = [x == 'in' for x in ood_labels]\n",
    "    auroc = sklearn_metrics.roc_auc_score(ood_labels_tmp, conf_scores)\n",
    "    apc = sklearn_metrics.average_precision_score(ood_labels, conf_scores, pos_label='in')\n",
    "    return fpr95, auroc, apc, eer95\n",
    "\n",
    "\n"
   ]
  },
  {
   "cell_type": "code",
   "execution_count": 174,
   "id": "civilian-queensland",
   "metadata": {},
   "outputs": [],
   "source": [
    "# Utils to plot figure\n",
    "\n",
    "import itertools\n",
    "from matplotlib import ticker\n",
    "\n",
    "def plot_conf_cm_score(tmppd, conf_col = 'conf', \n",
    "                       inout_col = g_inout_col, score_col = 'score', \n",
    "                       label_col = 'label', sample_ratio=0.1,\n",
    "                       plot_for_debug=False):\n",
    "    \"\"\" \n",
    "    Args\n",
    "    ----\n",
    "      pd: pandas frame, return from load_pd\n",
    "      conf_col: string, name of the column for confidence score\n",
    "      inout_col: string, name of the column to indicate in/out\n",
    "      score_col: string, name of the column for CM score\n",
    "      label_col: string, name of the column for CM label\n",
    "      sampling_ratio: float, we don't plot all the scores on scatter point -- too many\n",
    "                      we draw samples from the scores\n",
    "                      \n",
    "    Return\n",
    "    ------\n",
    "      fig: matplotlib fig handler\n",
    "      axis: matplotlib axis handler\n",
    "    \"\"\"\n",
    "    # 2d scatter\n",
    "    color_list = ['b',  'r', 'grey', 'c' ]\n",
    "    \n",
    "    ood_label_bags = tmppd[inout_col].unique()\n",
    "    ood_label_bags.sort()\n",
    "    cm_label_bags = tmppd[label_col].unique()\n",
    "    \n",
    "    # 2D scatter\n",
    "    data_bags, data_config_bag = [], []\n",
    "    \n",
    "    # ood dist\n",
    "    ood_bags, ood_config_bag = [], []\n",
    "    \n",
    "    # cm dist\n",
    "    cm_bags, cm_config_bag = [], []\n",
    "    \n",
    "    # \n",
    "    xlim = [np.percentile(tmppd[score_col].to_numpy(), 0.1) - np.abs(np.percentile(tmppd[score_col].to_numpy(), 0.1)) * 0.1,\n",
    "            np.percentile(tmppd[score_col].to_numpy(), 99.9) + np.abs(np.percentile(tmppd[score_col].to_numpy(), 99.9)) * 0.1]\n",
    "    ylim = [np.percentile(tmppd[conf_col].to_numpy(), 0.1) - np.abs(np.percentile(tmppd[conf_col].to_numpy(), 0.1)) * 0.1,\n",
    "            np.percentile(tmppd[conf_col].to_numpy(), 99.9) + np.abs(np.percentile(tmppd[conf_col].to_numpy(), 99.9)) * 0.1]\n",
    "    \n",
    "    for idx, (cm_label, ood_label) in enumerate(itertools.product(cm_label_bags, ood_label_bags)):\n",
    "        #print(ood_label, cm_label)\n",
    "        \n",
    "        query = \"{:s} == '{:s}' and {:s} == '{:s}'\".format(inout_col, ood_label, label_col, cm_label)\n",
    "        tmp = tmppd.query(query)\n",
    "        print(query, len(tmp))\n",
    "        conf_score = tmp[conf_col].to_numpy()\n",
    "        cm_score = tmp[score_col].to_numpy()\n",
    "        \n",
    "        \n",
    "        if len(conf_score) and len(cm_score):\n",
    "            #xlim = [np.percentile(cm_score, 0.1), np.percentile(cm_score, 99.9)]\n",
    "            #ylim = [np.percentile(conf_score, 0.1), np.percentile(conf_score, 99.9)]\n",
    "            if sample_ratio > 0:\n",
    "                # randomly sample a few data for plotting\n",
    "                data_index = np.arange(cm_score.shape[0])\n",
    "                np.random.shuffle(data_index)\n",
    "                data_index = data_index[0:int(data_index.shape[0] * sample_ratio)]\n",
    "                data_bags.append(np.stack([cm_score[data_index], conf_score[data_index]], axis=1))\n",
    "            else:\n",
    "                data_bags.append(np.stack([cm_score, conf_score], axis=1))\n",
    "            data_config_bag.append(\n",
    "                {\"plot_scatter\": {\"alpha\": 0.05, \"s\": 5, \"marker\": 'o', \"color\": color_list[idx]},\n",
    "                 'xlabel': \"CM score\", 'ylabel': \"Confidence score\", 'xlim':xlim, 'ylim': ylim, \n",
    "                 \"grid\": {'b': True, 'linestyle': ':', \n",
    "                          'linewidth': 0.5, 'color': 'k', \n",
    "                          'zorder':3}})\n",
    "            \n",
    "        if len(conf_score):\n",
    "            ood_bags.append(conf_score)\n",
    "            ood_config_bag.append({'plot_hist': {'histtype':'step', 'density':True, 'bins':100, 'color': color_list[idx], 'orientation': 'horizontal'}, \n",
    "                                   'yticks': [], 'yticklabels': [], 'xticks': [], 'ylim':ylim})\n",
    "\n",
    "        if len(cm_score):\n",
    "            cm_bags.append(cm_score)\n",
    "            cm_config_bag.append({'plot_hist': {'histtype':'step', 'density':True, 'bins':100, 'color': color_list[idx]}, \n",
    "                                  'xticks': [], 'xticklabels': [], 'yticks': [], 'xlim':xlim})\n",
    "    \n",
    "    max_trial_num = max([len(x) for x in ood_bags])\n",
    "    for idx in range(len(ood_bags)):\n",
    "        if len(ood_bags[idx]) < max_trial_num * 0.1:\n",
    "            data_config_bag[idx]['plot_scatter']['s'] = 10\n",
    "            data_config_bag[idx]['plot_scatter']['alpha'] = 0.1\n",
    "    \n",
    "    fig, axis = plot_API.plot_API2(data_bags + ood_bags + cm_bags,\n",
    "                       [plot_lib.plot_scatter for x in data_bags] + [plot_lib.plot_hist for x in ood_bags] + [plot_lib.plot_hist for x in cm_bags],\n",
    "                       [[[1, 3], [0, 2]] for x in data_bags] + [[[1, 3], [2, 3]] for x in ood_bags] + [[[0, 1], [0, 2]] for x in cm_bags],\n",
    "                       {'figsize': (9.44/4, 9.44/4), 'wspace': 0.1, 'hspace': 0.1,\n",
    "                        'subconfig': data_config_bag + ood_config_bag + cm_config_bag}, verbose=False)\n",
    "    axis[len(data_bags)].axis(\"off\")\n",
    "    axis[len(data_bags)+len(ood_bags)].axis(\"off\")\n",
    "    \n",
    "    return fig, axis\n",
    "\n",
    "\n",
    "def print_results(eer, eer95, fpr95, auroc, apc):\n",
    "    print(\"Metrics without considering abstention: \")\n",
    "    print(\"EER: {:.3f}%\".format(eer * 100))\n",
    "    \n",
    "    print(\"\\nMetrics for abstention: \")\n",
    "    print(\"AUROC: {:.3f}%\".format(auroc * 100))\n",
    "    print(\"AUPR: {:.3f}%\".format(apc * 100))\n",
    "    \n",
    "    print(\"\\nMetrics with abstention considered: \")\n",
    "    print(\"EER at TPR=95%: {:.3f}%\".format(eer95 * 100))\n",
    "    print(\"FPR at TPR=95%: {:.3f}%\".format(fpr95 * 100))\n",
    "    "
   ]
  },
  {
   "cell_type": "markdown",
   "id": "derived-fashion",
   "metadata": {},
   "source": [
    "# Run the scripts"
   ]
  },
  {
   "cell_type": "code",
   "execution_count": 189,
   "id": "little-driving",
   "metadata": {},
   "outputs": [],
   "source": [
    "# Load all the protocols \n",
    "prjdir = './'\n",
    "\n",
    "bc_protocol_pd = parse_protocol(prjdir + '/DATA/bc_release/protocol.txt')\n",
    "asv_protocol_pd = parse_protocol(prjdir + '/DATA/asvspoof2019_LA/protocol.txt')\n",
    "vcc_protocol_pd = parse_protocol(prjdir + '/DATA/vcc_release/protocol.txt')\n",
    "protocol_pd = pd.concat([bc_protocol_pd, asv_protocol_pd, vcc_protocol_pd])"
   ]
  },
  {
   "cell_type": "markdown",
   "id": "antique-brook",
   "metadata": {},
   "source": [
    "## Using AM-softmax-maxprob"
   ]
  },
  {
   "cell_type": "code",
   "execution_count": 192,
   "id": "controlled-quebec",
   "metadata": {},
   "outputs": [
    {
     "name": "stdout",
     "output_type": "stream",
     "text": [
      "inoutlabel == 'in' and label == 'spoof' 19656\n",
      "inoutlabel == 'out' and label == 'spoof' 44226\n",
      "inoutlabel == 'in' and label == 'bonafide' 7355\n",
      "inoutlabel == 'out' and label == 'bonafide' 0\n"
     ]
    },
    {
     "name": "stderr",
     "output_type": "stream",
     "text": [
      "/home/smg/wang/WORK/WORK/CODE/git_local/team/project-NN-Pytorch-scripts/tutorials/plot_tools/plot_API.py:325: MatplotlibDeprecationWarning: Adding an axes using the same arguments as a previous axes currently reuses the earlier instance.  In a future version, a new instance will always be created and returned.  Meanwhile, this warning can be suppressed, and the future behavior ensured, by passing a unique label to each axes instance.\n",
      "  axis = fig.add_subplot(gs[grid_config[0][0]:grid_config[0][1],\n"
     ]
    },
    {
     "name": "stdout",
     "output_type": "stream",
     "text": [
      "Metrics without considering abstention: \n",
      "EER: 4.633%\n",
      "\n",
      "Metrics for abstention: \n",
      "AUROC: 50.755%\n",
      "AUPR: 38.276%\n",
      "\n",
      "Metrics with abstention considered: \n",
      "EER at TPR=95%: inf%\n",
      "FPR at TPR=95%: 98.198%\n"
     ]
    },
    {
     "data": {
      "image/png": "[encoded data removed]",
      "text/plain": [
       "<Figure size 169.92x169.92 with 3 Axes>"
      ]
     },
     "metadata": {
      "needs_background": "light"
     },
     "output_type": "display_data"
    }
   ],
   "source": [
    "## On test set I \n",
    "\n",
    "# path to the score file\n",
    "score_file = [prjdir + '/AM-softmax-maxprob/config_train_asvspoof2019/01/log_output_pretrained_config_test_asvspoof2019_score.txt']\n",
    "\n",
    "# Note that for AM-softmax, the score from the script contains the scaling hyper-paraneter \\alpha=20\n",
    "# We can divide it by x/20\n",
    "merged_pd = load_pd(score_file, protocol_pd, lambda x: x/20, None)\n",
    "\n",
    "eer, _ = compute_eer(merged_pd)\n",
    "fig, axis = plot_conf_cm_score(merged_pd)\n",
    "fpr95, auroc, apc, eer95 = compute_metrics(merged_pd)\n",
    "print_results(eer, eer95, fpr95, auroc, apc)"
   ]
  },
  {
   "cell_type": "code",
   "execution_count": 196,
   "id": "worthy-excess",
   "metadata": {},
   "outputs": [
    {
     "name": "stdout",
     "output_type": "stream",
     "text": [
      "inoutlabel == 'in' and label == 'spoof' 19656\n",
      "inoutlabel == 'out' and label == 'spoof' 93693\n",
      "inoutlabel == 'in' and label == 'bonafide' 7355\n",
      "inoutlabel == 'out' and label == 'bonafide' 770\n"
     ]
    },
    {
     "name": "stderr",
     "output_type": "stream",
     "text": [
      "/home/smg/wang/WORK/WORK/CODE/git_local/team/project-NN-Pytorch-scripts/tutorials/plot_tools/plot_API.py:325: MatplotlibDeprecationWarning: Adding an axes using the same arguments as a previous axes currently reuses the earlier instance.  In a future version, a new instance will always be created and returned.  Meanwhile, this warning can be suppressed, and the future behavior ensured, by passing a unique label to each axes instance.\n",
      "  axis = fig.add_subplot(gs[grid_config[0][0]:grid_config[0][1],\n"
     ]
    },
    {
     "name": "stdout",
     "output_type": "stream",
     "text": [
      "Metrics without considering abstention: \n",
      "EER: 6.228%\n",
      "\n",
      "Metrics for abstention: \n",
      "AUROC: 50.805%\n",
      "AUPR: 22.518%\n",
      "\n",
      "Metrics with abstention considered: \n",
      "EER at TPR=95%: inf%\n",
      "FPR at TPR=95%: 98.098%\n"
     ]
    },
    {
     "data": {
      "image/png": "[encoded data removed]",
      "text/plain": [
       "<Figure size 169.92x169.92 with 3 Axes>"
      ]
     },
     "metadata": {
      "needs_background": "light"
     },
     "output_type": "display_data"
    }
   ],
   "source": [
    "## On test set II \n",
    "\n",
    "# path to the score file\n",
    "score_file = [prjdir + '/AM-softmax-maxprob/config_train_asvspoof2019/01/log_output_pretrained_config_test_asvspoof2019_score.txt',\n",
    "              prjdir + '/AM-softmax-maxprob/config_train_asvspoof2019/01/log_output_pretrained_config_test_vcc_score.txt']\n",
    "\n",
    "merged_pd = load_pd(score_file, protocol_pd, lambda x: x/20, None)\n",
    "\n",
    "eer, _ = compute_eer(merged_pd)\n",
    "fig, axis = plot_conf_cm_score(merged_pd)\n",
    "fpr95, auroc, apc, eer95 = compute_metrics(merged_pd)\n",
    "print_results(eer, eer95, fpr95, auroc, apc)"
   ]
  },
  {
   "cell_type": "markdown",
   "id": "demographic-judges",
   "metadata": {},
   "source": [
    "## Using Softmax-Conf"
   ]
  },
  {
   "cell_type": "code",
   "execution_count": 193,
   "id": "touched-norman",
   "metadata": {},
   "outputs": [
    {
     "name": "stdout",
     "output_type": "stream",
     "text": [
      "inoutlabel == 'in' and label == 'spoof' 19656\n",
      "inoutlabel == 'out' and label == 'spoof' 44226\n",
      "inoutlabel == 'in' and label == 'bonafide' 7355\n",
      "inoutlabel == 'out' and label == 'bonafide' 0\n"
     ]
    },
    {
     "name": "stderr",
     "output_type": "stream",
     "text": [
      "/home/smg/wang/WORK/WORK/CODE/git_local/team/project-NN-Pytorch-scripts/tutorials/plot_tools/plot_API.py:325: MatplotlibDeprecationWarning: Adding an axes using the same arguments as a previous axes currently reuses the earlier instance.  In a future version, a new instance will always be created and returned.  Meanwhile, this warning can be suppressed, and the future behavior ensured, by passing a unique label to each axes instance.\n",
      "  axis = fig.add_subplot(gs[grid_config[0][0]:grid_config[0][1],\n"
     ]
    },
    {
     "name": "stdout",
     "output_type": "stream",
     "text": [
      "Metrics without considering abstention: \n",
      "EER: 3.603%\n",
      "\n",
      "Metrics for abstention: \n",
      "AUROC: 75.720%\n",
      "AUPR: 70.129%\n",
      "\n",
      "Metrics with abstention considered: \n",
      "EER at TPR=95%: 4.074%\n",
      "FPR at TPR=95%: 73.862%\n"
     ]
    },
    {
     "data": {
      "image/png": "[encoded data removed]",
      "text/plain": [
       "<Figure size 169.92x169.92 with 3 Axes>"
      ]
     },
     "metadata": {
      "needs_background": "light"
     },
     "output_type": "display_data"
    }
   ],
   "source": [
    "## On test set I \n",
    "\n",
    "# path to the score file\n",
    "score_file = [prjdir + '/Softmax-conf/config_train_asvspoof2019/01/log_output_pretrained_config_test_asvspoof2019_score.txt']\n",
    "\n",
    "merged_pd = load_pd(score_file, protocol_pd, None, None)\n",
    "\n",
    "eer, _ = compute_eer(merged_pd)\n",
    "fig, axis = plot_conf_cm_score(merged_pd)\n",
    "fpr95, auroc, apc, eer95 = compute_metrics(merged_pd)\n",
    "print_results(eer, eer95, fpr95, auroc, apc)"
   ]
  },
  {
   "cell_type": "code",
   "execution_count": 194,
   "id": "major-timing",
   "metadata": {},
   "outputs": [
    {
     "name": "stdout",
     "output_type": "stream",
     "text": [
      "inoutlabel == 'in' and label == 'spoof' 19656\n",
      "inoutlabel == 'out' and label == 'spoof' 93693\n",
      "inoutlabel == 'in' and label == 'bonafide' 7355\n",
      "inoutlabel == 'out' and label == 'bonafide' 770\n"
     ]
    },
    {
     "name": "stderr",
     "output_type": "stream",
     "text": [
      "/home/smg/wang/WORK/WORK/CODE/git_local/team/project-NN-Pytorch-scripts/tutorials/plot_tools/plot_API.py:325: MatplotlibDeprecationWarning: Adding an axes using the same arguments as a previous axes currently reuses the earlier instance.  In a future version, a new instance will always be created and returned.  Meanwhile, this warning can be suppressed, and the future behavior ensured, by passing a unique label to each axes instance.\n",
      "  axis = fig.add_subplot(gs[grid_config[0][0]:grid_config[0][1],\n"
     ]
    },
    {
     "name": "stdout",
     "output_type": "stream",
     "text": [
      "Metrics without considering abstention: \n",
      "EER: 6.745%\n",
      "\n",
      "Metrics for abstention: \n",
      "AUROC: 73.779%\n",
      "AUPR: 51.788%\n",
      "\n",
      "Metrics with abstention considered: \n",
      "EER at TPR=95%: 5.585%\n",
      "FPR at TPR=95%: 77.894%\n"
     ]
    },
    {
     "data": {
      "image/png": "[encoded data removed]",
      "text/plain": [
       "<Figure size 169.92x169.92 with 3 Axes>"
      ]
     },
     "metadata": {
      "needs_background": "light"
     },
     "output_type": "display_data"
    }
   ],
   "source": [
    "## On test set II \n",
    "\n",
    "# path to the score file\n",
    "score_file = [prjdir + '/Softmax-conf/config_train_asvspoof2019/01/log_output_pretrained_config_test_asvspoof2019_score.txt',\n",
    "              prjdir + '/Softmax-conf/config_train_asvspoof2019/01/log_output_pretrained_config_test_vcc_score.txt']\n",
    "\n",
    "merged_pd = load_pd(score_file, protocol_pd, None, None)\n",
    "\n",
    "eer, _ = compute_eer(merged_pd)\n",
    "fig, axis = plot_conf_cm_score(merged_pd)\n",
    "fpr95, auroc, apc, eer95 = compute_metrics(merged_pd)\n",
    "print_results(eer, eer95, fpr95, auroc, apc)"
   ]
  },
  {
   "cell_type": "code",
   "execution_count": null,
   "id": "floating-newport",
   "metadata": {},
   "outputs": [],
   "source": []
  }
 ],
 "metadata": {
  "kernelspec": {
   "display_name": "Python 3",
   "language": "python",
   "name": "python3"
  },
  "language_info": {
   "codemirror_mode": {
    "name": "ipython",
    "version": 3
   },
   "file_extension": ".py",
   "mimetype": "text/x-python",
   "name": "python",
   "nbconvert_exporter": "python",
   "pygments_lexer": "ipython3",
   "version": "3.8.3"
  }
 },
 "nbformat": 4,
 "nbformat_minor": 5
}
